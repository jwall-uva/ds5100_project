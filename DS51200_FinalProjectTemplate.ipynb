{
 "cells": [
  {
   "cell_type": "markdown",
   "id": "45762487-d33f-486d-8e38-2cdea04e3528",
   "metadata": {},
   "source": [
    "# Final Project Report\n",
    "\n",
    "* Class: DS 5100\n",
    "* Student Name: Jasmine Waller\n",
    "* Student Net ID: vwx5pn \n",
    "* This URL:https://github.com/jwall-uva/ds5100_project/blob/main/DS51200_FinalProjectTemplate.ipynb"
   ]
  },
  {
   "cell_type": "markdown",
   "id": "acf756c1-ecaa-41dc-b6ca-d566eb94560b",
   "metadata": {},
   "source": [
    "# Instructions\n",
    "\n",
    "Follow the instructions in the Final Project isntructions notebook and put evidence of your work in this notebook.\n",
    "\n",
    "Total points for each subsection under **Deliverables** and **Scenarios** are given in parentheses.\n",
    "\n",
    "Breakdowns of points within subsections are specified within subsection instructions as bulleted lists.\n",
    "\n",
    "This project is worth **50 points**."
   ]
  },
  {
   "cell_type": "markdown",
   "id": "89dc7a32-f682-4402-8c1e-b6ccdb3e0e39",
   "metadata": {},
   "source": [
    "# Deliverables"
   ]
  },
  {
   "cell_type": "markdown",
   "id": "d32cb273-9a40-4909-a7ce-51f6e4958d3c",
   "metadata": {},
   "source": [
    "## The Monte Carlo Module (10)\n",
    "\n",
    "- URL included, appropriately named (1).\n",
    "- Includes all three specified classes (3).\n",
    "- Includes at least all 12 specified methods (6; .5 each)."
   ]
  },
  {
   "cell_type": "markdown",
   "id": "f5f3b070-de9e-4de9-bfae-8974d184aa28",
   "metadata": {},
   "source": [
    "Put the URL to your GitHub repo here.\n",
    "\n",
    "Repo URL:https://github.com/jwall-uva/ds5100_project/tree/main"
   ]
  },
  {
   "cell_type": "markdown",
   "id": "162370fb-3729-4c85-b040-8c25b2c966d2",
   "metadata": {},
   "source": [
    "Paste a copyy of your module here.\n",
    "\n",
    "NOTE: Paste as text, not as code. Use triple backticks to wrap your code blocks."
   ]
  },
  {
   "cell_type": "code",
   "execution_count": 12,
   "id": "a0743efc-a785-4b5c-a9e6-b65d4507a67f",
   "metadata": {},
   "outputs": [
    {
     "ename": "IndentationError",
     "evalue": "unindent does not match any outer indentation level (<tokenize>, line 114)",
     "output_type": "error",
     "traceback": [
      "\u001b[0;36m  File \u001b[0;32m<tokenize>:114\u001b[0;36m\u001b[0m\n\u001b[0;31m    statistical properties about it.'''\u001b[0m\n\u001b[0m    ^\u001b[0m\n\u001b[0;31mIndentationError\u001b[0m\u001b[0;31m:\u001b[0m unindent does not match any outer indentation level\n"
     ]
    }
   ],
   "source": [
    "'''\n",
    "import numpy as np\n",
    "import pandas as pd\n",
    "\n",
    "class Die(): \n",
    "    \n",
    "    '''This class takes a die of N number of sides. Each side is initially evenly weighted but \n",
    "        you can change the weight of the sides. This class also has functions that will roll the die \n",
    "        and show the results as well.'''\n",
    "    \n",
    "    def __init__(self, face): \n",
    "        \"Intializes a numpy as the faces of the die.\"\n",
    "    #takes numpy as an argument and has an error if not \n",
    "        if not isinstance(face, np.ndarray):\n",
    "            raise TypeError(\"Input must be a NumPy array.\")\n",
    "            \n",
    "    #raises a ValueError if the faces are not distinct     \n",
    "        if len(np.unique(face)) != len(face): \n",
    "            raise ValueError(\"All face values must be distinct.\")\n",
    "    \n",
    "        weights = np.ones(len(face), dtype = float)\n",
    "        \n",
    "        # Save to a private DataFrame with faces as index\n",
    "        self.__data = pd.DataFrame({'weight': weights}, index=face)\n",
    "        \n",
    "    def change_weight(self, face, new_weight):\n",
    "        \"A method to change the weight of a single side.\"\n",
    "     # Check if face exists in the index\n",
    "        if face not in self.__data.index:\n",
    "            raise IndexError(f\"Face '{face}' not found in die faces.\")   \n",
    "            \n",
    "        try: \n",
    "            numeric_weight = float(new_weight) \n",
    "        except (TypeError, ValueError):\n",
    "            raise TypeError(\"New weight must be a number or castable to a number.\")\n",
    "        \n",
    "        # Assign the new weight\n",
    "        self.__data.loc[face, 'weight'] = numeric_weight\n",
    "        \n",
    "    def roll_die(self, num_rolls=1):\n",
    "        \"A method to roll the die one or more times.\"\n",
    "        # Validate num_rolls is a positive integer\n",
    "        if not isinstance(num_rolls, int) or num_rolls < 1:\n",
    "            raise ValueError(\"Number of rolls must be a positive integer.\")\n",
    "        \n",
    "        # get the faces and weights \n",
    "        faces = self.__data.index.to_numpy()\n",
    "        weights = self.__data['weight'].to_numpy()\n",
    "        \n",
    "        # Normalize weights to convert them into probabilities\n",
    "        probabilities = weights / weights.sum()\n",
    "\n",
    "        # Use numpy to randomly choose faces based on weights\n",
    "        rolls = np.random.choice(faces, size=num_rolls, p=probabilities)\n",
    "        \n",
    "        return rolls.tolist()\n",
    "\n",
    "    def show_die(self):\n",
    "        \"A method to show the die’s current state.\"\n",
    "        # Returns a copy of the private die data frame.\n",
    "        return self.__data.copy()\n",
    "    \n",
    "        \n",
    "import numpy as np \n",
    "import pandas as pd \n",
    "\n",
    "class Game():\n",
    "    \n",
    "    \"\"\"The class takes multiple die in a list. From there, you can roll the die all together to play.\n",
    "    You can also print out the game results in a data frame.\"\"\"\n",
    "    \n",
    "    def __init__(self, dice_list):\n",
    "        \n",
    "        self.dice_list = dice_list\n",
    "        self.__results = None \n",
    "        \n",
    "    def play(self, num_rolls):\n",
    "        \n",
    "        if not isinstance(num_rolls, int) or num_rolls<1:\n",
    "            raise ValueError(\"Number of rolls must be a positive integer.\")\n",
    "            \n",
    "        results = {}\n",
    "            \n",
    "        for i, die in enumerate(self.dice_list):\n",
    "                results[i] = die.roll_die(num_rolls)\n",
    "                \n",
    "        self.__results = pd.DataFrame(results) \n",
    "        self.__results.index.name = 'roll'\n",
    "        self.__results.index += 1\n",
    "        \n",
    "    def game_results(self, form='wide'): \n",
    "        \"A method to show the user the results of the most recent play.\"\n",
    "        if self.__results is None:\n",
    "            return None \n",
    "        \n",
    "        if form == 'wide':\n",
    "            return self.__results.copy()\n",
    "        elif form == 'narrow':\n",
    "            stacked = self.__results.stack()\n",
    "            df = stacked.to_frame(name = 'result') \n",
    "            df = df.rename_axis(['roll', 'die'])\n",
    "            df = df.reset_index()\n",
    "            df = df.set_index(['roll', 'die'])\n",
    "            return df \n",
    "                              \n",
    "        else:\n",
    "            raise ValueError(\"Invalid. Choose narrow or wide.\")\n",
    "\n",
    "import pandas as pd\n",
    "from collections import Counter\n",
    "\n",
    "class Analyzer():\n",
    "    '''An Analyzer object takes the results of a single game and computes various descriptive \n",
    "    statistical properties about it.'''\n",
    "\n",
    "\n",
    "    def __init__(self, game):\n",
    "        \"Takes a game object as its input parameter and gives an error if not a game object\"\n",
    "        if not isinstance(game, Game):\n",
    "            raise ValueError(\"Error. Expected a Game object.\")\n",
    "        \n",
    "        self.game = game \n",
    "        self.results = game.game_results()\n",
    "        \n",
    "            \n",
    "    def jackpot(self):\n",
    "        \"Checks to see how many times all the faces have the same value.\"\n",
    "        \n",
    "        jackpots = self.results.nunique(axis=1) == 1 \n",
    "        return jackpots.sum()\n",
    "    \n",
    "    def roll_count(self):\n",
    "        \"Counts how many times a given face is rolled in each event.\"\n",
    "    \n",
    "        face_counts = self.results.apply(lambda row: row.value_counts(), axis=1).fillna(0).astype(int)\n",
    "        face_counts.index.name = 'roll' \n",
    "        face_counts.columns.name = 'face' \n",
    "        return face_counts\n",
    "        \n",
    "    def combo_count(self):\n",
    "        \n",
    "        combos = self.results.apply(lambda row: tuple(sorted(row)), axis=1)\n",
    "        combo_counts = combos.value_counts().to_frame(name='count')\n",
    "        combo_counts.index.name = 'combination'\n",
    "        return combo_counts\n",
    "    \n",
    "    def permutation_count(self):\n",
    "        \n",
    "        permutations = self.results.apply(lambda row: tuple(row), axis=1)\n",
    "        perm_counts = permutations.value_counts().to_frame(name='count')\n",
    "        perm_counts.index.name = 'permutation'\n",
    "        return perm_counts'''"
   ]
  },
  {
   "cell_type": "markdown",
   "id": "6377727a-8f0a-491e-9f1c-d9dc225edd35",
   "metadata": {},
   "source": [
    "## Unitest Module (2)\n",
    "\n",
    "Paste a copy of your test module below.\n",
    "\n",
    "NOTE: Paste as text, not as code. Use triple backticks to wrap your code blocks.\n",
    "\n",
    "- All methods have at least one test method (1).\n",
    "- Each method employs one of Unittest's Assert methods (1)."
   ]
  },
  {
   "cell_type": "code",
   "execution_count": null,
   "id": "14b878d8-258b-4cf2-ad88-b8ee90d43977",
   "metadata": {},
   "outputs": [],
   "source": [
    "'''import unittest\n",
    "import numpy as np\n",
    "import pandas as pd\n",
    "from Projectclasses import Die, Game, Analyzer \n",
    "\n",
    "\n",
    "class TestDieStructures(unittest.TestCase):\n",
    "\n",
    "    def setUp(self):\n",
    "        self.faces = np.array(['A', 'B', 'C'])\n",
    "        self.die = Die(self.faces)\n",
    "\n",
    "    def test_init_creates_dataframe(self):\n",
    "        result = self.die.show_die()\n",
    "        self.assertIsInstance(result, pd.DataFrame)\n",
    "        self.assertListEqual(result.columns.tolist(), ['weight'])\n",
    "        self.assertTrue(all(face in result.index for face in self.faces))\n",
    "\n",
    "    def test_change_weight_modifies_dataframe(self):\n",
    "        original = self.die.show_die()\n",
    "        self.die.change_weight('B', 4.5)\n",
    "        modified = self.die.show_die()\n",
    "        self.assertNotEqual(original.loc['B', 'weight'], modified.loc['B', 'weight'])\n",
    "        self.assertIsInstance(modified, pd.DataFrame)\n",
    "\n",
    "    def test_roll_die_returns_list(self):\n",
    "        rolls = self.die.roll_die(5)\n",
    "        self.assertIsInstance(rolls, list)\n",
    "        self.assertEqual(len(rolls), 5)\n",
    "        for roll in rolls:\n",
    "            self.assertIn(roll, self.faces)\n",
    "\n",
    "    def test_show_die_returns_dataframe_copy(self):\n",
    "        df1 = self.die.show_die()\n",
    "        df2 = self.die.show_die()\n",
    "        self.assertIsInstance(df1, pd.DataFrame)\n",
    "        self.assertIsInstance(df2, pd.DataFrame)\n",
    "        self.assertFalse(df1 is df2)  # Ensures it's a copy, not a reference \n",
    "\n",
    "class TestGameStructures(unittest.TestCase):\n",
    "\n",
    "    def setUp(self):\n",
    "        faces = np.array(['A', 'B', 'C'])\n",
    "        self.die1 = Die(faces)\n",
    "        self.die2 = Die(faces)\n",
    "        self.game = Game([self.die1, self.die2])\n",
    "        self.num_rolls = 5\n",
    "\n",
    "    def test_play_creates_dataframe(self):\n",
    "        self.game.play(self.num_rolls)\n",
    "        result = self.game.game_results('wide')\n",
    "        self.assertIsInstance(result, pd.DataFrame)\n",
    "        self.assertEqual(result.shape, (self.num_rolls, 2))  # 2 dice\n",
    "        self.assertListEqual(list(result.columns), [0, 1])  # Die indices\n",
    "\n",
    "    def test_game_results_wide_structure(self):\n",
    "        self.game.play(self.num_rolls)\n",
    "        df_wide = self.game.game_results('wide')\n",
    "        self.assertIsInstance(df_wide, pd.DataFrame)\n",
    "        self.assertEqual(df_wide.index.name, 'roll')\n",
    "\n",
    "    def test_game_results_narrow_structure(self):\n",
    "        self.game.play(self.num_rolls)\n",
    "        df_narrow = self.game.game_results('narrow')\n",
    "        self.assertIsInstance(df_narrow, pd.DataFrame)\n",
    "        self.assertEqual(df_narrow.index.names, ['roll', 'die'])\n",
    "        self.assertListEqual(df_narrow.columns.tolist(), ['result'])\n",
    "\n",
    "    def test_game_results_none_before_play(self):\n",
    "        new_game = Game([self.die1])\n",
    "        self.assertIsNone(new_game.game_results())\n",
    "\n",
    "    def test_game_results_invalid_format_raises(self):\n",
    "        self.game.play(self.num_rolls)\n",
    "        with self.assertRaises(ValueError):\n",
    "            self.game.game_results('long')  # Invalid format\n",
    "\n",
    "    def test_play_invalid_rolls_raises(self):\n",
    "        with self.assertRaises(ValueError):\n",
    "            self.game.play(0)\n",
    "        with self.assertRaises(ValueError):\n",
    "            self.game.play(-5)\n",
    "        with self.assertRaises(ValueError):\n",
    "            self.game.play(\"five\") \n",
    "\n",
    "class TestAnalyzerStructures(unittest.TestCase):\n",
    "\n",
    "    def setUp(self):\n",
    "        # Create a game with two dice and play it\n",
    "        faces = np.array(['A', 'B', 'C'])\n",
    "        die1 = Die(faces)\n",
    "        die2 = Die(faces)\n",
    "        game = Game([die1, die2])\n",
    "        game.play(10)\n",
    "        self.analyzer = Analyzer(game)\n",
    "\n",
    "    def test_jackpot_returns_int(self):\n",
    "        result = self.analyzer.jackpot()\n",
    "        self.assertTrue(isinstance(result, (int, np.integer)))\n",
    "\n",
    "    def test_roll_count_returns_dataframe(self):\n",
    "        result = self.analyzer.roll_count()\n",
    "        self.assertIsInstance(result, pd.DataFrame)\n",
    "        self.assertTrue(result.index.name == 'roll')\n",
    "        self.assertTrue(result.columns.name == 'face')\n",
    "\n",
    "    def test_combo_count_returns_dataframe(self):\n",
    "        result = self.analyzer.combo_count()\n",
    "        self.assertIsInstance(result, pd.DataFrame)\n",
    "        self.assertIn('count', result.columns)\n",
    "        self.assertEqual(result.index.name, 'combination')\n",
    "\n",
    "    def test_permutation_count_returns_dataframe(self):\n",
    "        result = self.analyzer.permutation_count()\n",
    "        self.assertIsInstance(result, pd.DataFrame)\n",
    "        self.assertIn('count', result.columns)\n",
    "        self.assertEqual(result.index.name, 'permutation')\n",
    "\n",
    "    def test_init_invalid_game_raises(self):\n",
    "        with self.assertRaises(ValueError):\n",
    "            Analyzer(\"not a game\")\n",
    "\n",
    "if __name__ == '__main__':\n",
    "    unittest.main()\n",
    "'''"
   ]
  },
  {
   "cell_type": "markdown",
   "id": "3e058d03-29bc-408f-b36d-0605b4f4b8c0",
   "metadata": {
    "tags": []
   },
   "source": [
    "## Unittest Results (3)\n",
    "\n",
    "Put a copy of the results of running your tests from the command line here.\n",
    "\n",
    "Again, paste as text using triple backticks.\n",
    "\n",
    "- All 12 specified methods return OK (3; .25 each)."
   ]
  },
  {
   "cell_type": "raw",
   "id": "54691fd0-836c-43c7-adc9-4a09d8aa9ab2",
   "metadata": {
    "tags": []
   },
   "source": [
    "...............\n",
    "----------------------------------------------------------------------\n",
    "Ran 15 tests in 0.018s\n",
    "\n",
    "OK\n"
   ]
  },
  {
   "cell_type": "markdown",
   "id": "d9ffe8c5-eb2f-4ad1-af76-a46550e4c7ac",
   "metadata": {},
   "source": [
    "## Import (1)\n",
    "\n",
    "Import your module here. This import should refer to the code in your package directory.\n",
    "\n",
    "- Module successuflly imported (1)."
   ]
  },
  {
   "cell_type": "code",
   "execution_count": null,
   "id": "a05dffb3-e6d6-4f78-9df4-5abd0cf74ca9",
   "metadata": {
    "tags": []
   },
   "outputs": [],
   "source": [
    "import sys\n",
    "sys.path.append('/sfs/gpfs/tardis/home/vwx5pn/ds5100_project')  # Adjust this to your actual path\n",
    "\n",
    "from Projectclasses import Die, Game, Analyzer\n"
   ]
  },
  {
   "cell_type": "markdown",
   "id": "f30c4842-65b1-4556-98b6-3fe1a07e1371",
   "metadata": {},
   "source": [
    "## Help Docs (4)\n",
    "\n",
    "Show your docstring documentation by applying `help()` to your imported module.\n",
    "\n",
    "- All methods have a docstring (3; .25 each).\n",
    "- All classes have a docstring (1; .33 each)."
   ]
  },
  {
   "cell_type": "code",
   "execution_count": null,
   "id": "bf4fbf1f-9885-471c-a0a6-e9ca90e160de",
   "metadata": {
    "tags": []
   },
   "outputs": [],
   "source": [
    "help(Die)\n",
    "help(Game)\n",
    "help(Analyzer)"
   ]
  },
  {
   "cell_type": "markdown",
   "id": "a9defa84-b395-4966-bd1c-5c6c2bb7ed68",
   "metadata": {},
   "source": [
    "## `README.md` File (3)\n",
    "\n",
    "Provide link to the README.md file of your project's repo.\n",
    "\n",
    "- Metadata section or info present (1).\n",
    "- Synopsis section showing how each class is called (1). (All must be included.)\n",
    "- API section listing all classes and methods (1). (All must be included.)"
   ]
  },
  {
   "cell_type": "markdown",
   "id": "ee090b33-d593-48a0-bf35-e739cea0942c",
   "metadata": {},
   "source": [
    "URL: https://github.com/jwall-uva/ds5100_project/blob/main/README.md"
   ]
  },
  {
   "cell_type": "markdown",
   "id": "108604c8-8827-42ef-ab59-6b25428fc0ca",
   "metadata": {},
   "source": [
    "## Successful installation (2)\n",
    "\n",
    "Put a screenshot or paste a copy of a terminal session where you successfully install your module with pip.\n",
    "\n",
    "If pasting text, use a preformatted text block to show the results.\n",
    "\n",
    "- Installed with `pip` (1).\n",
    "- Successfully installed message appears (1)."
   ]
  },
  {
   "cell_type": "raw",
   "id": "1278db6a-aa53-4e5c-a749-93a87ab239e0",
   "metadata": {},
   "source": [
    "# Pasted code"
   ]
  },
  {
   "cell_type": "markdown",
   "id": "7c44695d-d1b3-4edf-9f94-e64d7446f199",
   "metadata": {},
   "source": [
    "# Scenarios\n",
    "\n",
    "Use code blocks to perform the tasks for each scenario.\n",
    "\n",
    "Be sure the outputs are visible before submitting."
   ]
  },
  {
   "cell_type": "markdown",
   "id": "e2479eae-6fc9-44cd-b8d7-9b22cb501f2a",
   "metadata": {
    "tags": []
   },
   "source": [
    "## Scenario 1: A 2-headed Coin (9)\n",
    "\n",
    "Task 1. Create a fair coin (with faces $H$ and $T$) and one unfair coin in which one of the faces has a weight of $5$ and the others $1$.\n",
    "\n",
    "- Fair coin created (1).\n",
    "- Unfair coin created with weight as specified (1)."
   ]
  },
  {
   "cell_type": "code",
   "execution_count": 13,
   "id": "55ce498e-c75f-4425-9e3e-b635bd6cd9e1",
   "metadata": {},
   "outputs": [],
   "source": [
    "import numpy as np\n",
    "from Projectclasses import Die"
   ]
  },
  {
   "cell_type": "code",
   "execution_count": 14,
   "id": "7b81ac80-a4bb-48d9-bb30-38444f4c2224",
   "metadata": {},
   "outputs": [],
   "source": [
    "fair_coin = Die(np.array(['H', 'T']))\n",
    "\n",
    "unfair_coin = Die(np.array(['H', 'T']))\n",
    "unfair_coin.change_weight('H', 5.0)"
   ]
  },
  {
   "cell_type": "markdown",
   "id": "02b272ab-99da-4b6e-ac2a-555b73e09c07",
   "metadata": {},
   "source": [
    "Task 2. Play a game of $1000$ flips with two fair dice.\n",
    "\n",
    "- Play method called correclty and without error (1)."
   ]
  },
  {
   "cell_type": "code",
   "execution_count": 15,
   "id": "65c92601-d32d-4326-b215-74953aee27f2",
   "metadata": {},
   "outputs": [],
   "source": [
    "import numpy as np\n",
    "from Projectclasses import Die, Game\n",
    "\n",
    "fair_coin1 = Die(np.array(['H', 'T']))\n",
    "fair_coin2 = Die(np.array(['H', 'T']))"
   ]
  },
  {
   "cell_type": "code",
   "execution_count": 16,
   "id": "acfec76c-8902-4888-932e-4f39f3c3764a",
   "metadata": {
    "tags": []
   },
   "outputs": [],
   "source": [
    "game = Game([fair_coin1, fair_coin2])\n",
    "game.play(1000)"
   ]
  },
  {
   "cell_type": "markdown",
   "id": "7d9c3dc8-22c1-4cae-81fb-d68d774a05d1",
   "metadata": {},
   "source": [
    "Task 3. Play another game (using a new Game object) of $1000$ flips, this time using two unfair dice and one fair die. For the second unfair die, you can use the same die object twice in the list of dice you pass to the Game object.\n",
    "\n",
    "- New game object created (1).\n",
    "- Play method called correclty and without error (1)."
   ]
  },
  {
   "cell_type": "code",
   "execution_count": 17,
   "id": "d4098bed-1eb2-4084-8d5e-9fda07c3be43",
   "metadata": {},
   "outputs": [
    {
     "name": "stdout",
     "output_type": "stream",
     "text": [
      "      0  1  2\n",
      "roll         \n",
      "1     H  T  H\n",
      "2     H  H  T\n",
      "3     H  H  H\n",
      "4     H  H  T\n",
      "5     H  H  H\n",
      "...  .. .. ..\n",
      "996   T  H  T\n",
      "997   T  H  H\n",
      "998   T  H  H\n",
      "999   H  H  H\n",
      "1000  H  H  H\n",
      "\n",
      "[1000 rows x 3 columns]\n"
     ]
    }
   ],
   "source": [
    "coin1 = Die(np.array(['H', 'T']))\n",
    "coin2 = Die(np.array(['H', 'T']))\n",
    "\n",
    "\n",
    "coin1.change_weight('H', 5.0)\n",
    "new_game = Game([coin1, coin1, coin2])\n",
    "new_game.play(1000)\n",
    "print(new_game.game_results('wide'))"
   ]
  },
  {
   "cell_type": "markdown",
   "id": "f690ebfc-fe71-4eb2-976d-7ac80ca6c23f",
   "metadata": {},
   "source": [
    "Task 4. For each game, use an Analyzer object to determine the raw frequency of jackpots — i.e. getting either all $H$s or all $T$s.\n",
    "\n",
    "- Analyzer objecs instantiated for both games (1).\n",
    "- Raw frequencies reported for both (1)."
   ]
  },
  {
   "cell_type": "code",
   "execution_count": 18,
   "id": "b26b8b7e-3be7-4476-a9a4-37d97536729e",
   "metadata": {},
   "outputs": [],
   "source": [
    "from Projectclasses import Analyzer\n",
    "\n",
    "analyzer_game = Analyzer(game)\n",
    "analyzer_new_game = Analyzer(new_game)\n",
    "\n",
    "jackpot_game = analyzer_game.jackpot()\n",
    "jackpot_new_game = analyzer_new_game.jackpot()"
   ]
  },
  {
   "cell_type": "code",
   "execution_count": 19,
   "id": "53ab9636-f81b-4ab6-a065-9a51a1e45e6e",
   "metadata": {},
   "outputs": [
    {
     "name": "stdout",
     "output_type": "stream",
     "text": [
      "Task 1 Jackpot Count: 502\n",
      "Task 2 Jackpot Count: 385\n"
     ]
    }
   ],
   "source": [
    "print(\"Task 1 Jackpot Count:\", jackpot_game)\n",
    "print(\"Task 2 Jackpot Count:\", jackpot_new_game)"
   ]
  },
  {
   "cell_type": "markdown",
   "id": "b73d233c-445e-40cd-8858-0c5e1f097105",
   "metadata": {},
   "source": [
    "Task 5. For each analyzer, compute relative frequency as the number of jackpots over the total number of rolls.\n",
    "\n",
    "- Both relative frequencies computed (1)."
   ]
  },
  {
   "cell_type": "code",
   "execution_count": 20,
   "id": "9a96b31b-1b9d-496e-be3e-4bf83c45ec3a",
   "metadata": {},
   "outputs": [
    {
     "name": "stdout",
     "output_type": "stream",
     "text": [
      "Task 1 Relative Frequency: 0.502\n",
      "Task 2 Relative Frequency: 0.385\n"
     ]
    }
   ],
   "source": [
    "total_rolls = 1000\n",
    "\n",
    "rel_freq1 = jackpot_game / total_rolls\n",
    "rel_freq2 = jackpot_new_game / total_rolls\n",
    "\n",
    "print(\"Task 1 Relative Frequency:\", rel_freq1)\n",
    "print(\"Task 2 Relative Frequency:\", rel_freq2)"
   ]
  },
  {
   "cell_type": "markdown",
   "id": "a6e1e734-7f5c-4721-8ba4-2f3a424cf984",
   "metadata": {},
   "source": [
    "Task 6. Show your results, comparing the two relative frequencies, in a simple bar chart.\n",
    "\n",
    "- Bar chart plotted and correct (1)."
   ]
  },
  {
   "cell_type": "code",
   "execution_count": 21,
   "id": "473fa67c-aa53-4aa3-a0b7-e8772b3f6ed3",
   "metadata": {},
   "outputs": [
    {
     "data": {
      "image/png": "[encoded data removed]",
      "text/plain": [
       "<Figure size 640x480 with 1 Axes>"
      ]
     },
     "metadata": {},
     "output_type": "display_data"
    }
   ],
   "source": [
    "import matplotlib.pyplot as plt\n",
    "\n",
    "\n",
    "labels = ['Task 1', 'Task 2']\n",
    "values = [rel_freq1, rel_freq2]\n",
    "\n",
    "# Plot\n",
    "plt.bar(labels, values, color=['pink', 'purple'])\n",
    "plt.ylabel('Relative Frequency of Jackpots')\n",
    "plt.title('Comparison of Jackpot Frequencies')\n",
    "plt.ylim(0, 1) \n",
    "\n",
    "\n",
    "plt.show()\n"
   ]
  },
  {
   "cell_type": "markdown",
   "id": "725cfa5b-e4b7-47c9-86aa-8d9e1fe6c8c7",
   "metadata": {},
   "source": [
    "## Scenario 2: A 6-sided Die (9)\n",
    "\n",
    "Task 1. Create three dice, each with six sides having the faces 1 through 6.\n",
    "\n",
    "- Three die objects created (1)."
   ]
  },
  {
   "cell_type": "code",
   "execution_count": 22,
   "id": "6a8bc611-325a-4e05-88d5-980e0a2cf7c5",
   "metadata": {},
   "outputs": [],
   "source": [
    "die1 = Die(np.array(['1', '2', '3', '4', '5', '6']))\n",
    "die2 = Die(np.array(['1', '2', '3', '4', '5', '6']))\n",
    "die3 = Die(np.array(['1', '2', '3', '4', '5', '6']))"
   ]
  },
  {
   "cell_type": "markdown",
   "id": "2ed3ad26-fbe9-43bd-9ad7-f683a4191d12",
   "metadata": {},
   "source": [
    "Task 2. Convert one of the dice to an unfair one by weighting the face $6$ five times more than the other weights (i.e. it has weight of 5 and the others a weight of 1 each).\n",
    "\n",
    "- Unfair die created with proper call to weight change method (1)."
   ]
  },
  {
   "cell_type": "code",
   "execution_count": 23,
   "id": "e33dd18f-7f90-456d-a680-61c08a328e21",
   "metadata": {},
   "outputs": [],
   "source": [
    "die1.change_weight('6', 5.0)"
   ]
  },
  {
   "cell_type": "markdown",
   "id": "7f6c062a-4c5b-45b9-96b8-76a0354c7e47",
   "metadata": {},
   "source": [
    "Task 3. Convert another of the dice to be unfair by weighting the face $1$ five times more than the others.\n",
    "\n",
    "- Unfair die created with proper call to weight change method (1)."
   ]
  },
  {
   "cell_type": "code",
   "execution_count": 24,
   "id": "01133a4e-6b06-4246-8d90-8e6d6995be51",
   "metadata": {},
   "outputs": [],
   "source": [
    "die2.change_weight('1', 5.0)"
   ]
  },
  {
   "cell_type": "markdown",
   "id": "f0ed31cb-0a3c-4eb2-b85e-6ed6b2eb6e58",
   "metadata": {},
   "source": [
    "Task 4. Play a game of $10000$ rolls with $5$ fair dice.\n",
    "\n",
    "- Game class properly instantiated (1). \n",
    "- Play method called properly (1)."
   ]
  },
  {
   "cell_type": "code",
   "execution_count": 25,
   "id": "e92395a4-9ed8-4cb0-8c85-38768a784ffc",
   "metadata": {},
   "outputs": [
    {
     "name": "stdout",
     "output_type": "stream",
     "text": [
      "       0  1  2  3  4\n",
      "roll                \n",
      "1      4  5  4  3  1\n",
      "2      3  6  1  2  2\n",
      "3      3  4  5  1  3\n",
      "4      1  6  4  2  5\n",
      "5      2  6  4  1  1\n",
      "...   .. .. .. .. ..\n",
      "9996   6  1  6  2  1\n",
      "9997   1  4  2  5  1\n",
      "9998   4  2  5  4  5\n",
      "9999   1  4  2  3  3\n",
      "10000  4  3  6  5  1\n",
      "\n",
      "[10000 rows x 5 columns]\n"
     ]
    }
   ],
   "source": [
    "Dice_game = Game([die3, die3, die3, die3, die3])\n",
    "Dice_game.play(10000)\n",
    "print(Dice_game.game_results('wide'))"
   ]
  },
  {
   "cell_type": "markdown",
   "id": "7814b402-46a4-40e5-8141-20e05c3e646b",
   "metadata": {},
   "source": [
    "Task 5. Play another game of $10000$ rolls, this time with $2$ unfair dice, one as defined in steps #2 and #3 respectively, and $3$ fair dice.\n",
    "\n",
    "- Game class properly instantiated (1). \n",
    "- Play method called properly (1)."
   ]
  },
  {
   "cell_type": "code",
   "execution_count": 26,
   "id": "7cd58fba-b2a5-4d5d-bc6d-2a7a68d18c4f",
   "metadata": {},
   "outputs": [
    {
     "name": "stdout",
     "output_type": "stream",
     "text": [
      "       0  1  2  3  4\n",
      "roll                \n",
      "1      6  1  4  1  6\n",
      "2      3  1  5  1  5\n",
      "3      5  6  5  5  2\n",
      "4      2  1  6  4  2\n",
      "5      1  1  3  3  4\n",
      "...   .. .. .. .. ..\n",
      "9996   1  1  5  1  1\n",
      "9997   6  1  5  1  5\n",
      "9998   6  1  5  4  6\n",
      "9999   6  1  4  4  4\n",
      "10000  3  1  6  3  1\n",
      "\n",
      "[10000 rows x 5 columns]\n"
     ]
    }
   ],
   "source": [
    "Vegas_game = Game([die1, die2, die3, die3, die3])\n",
    "Vegas_game.play(10000)\n",
    "print(Vegas_game.game_results('wide'))"
   ]
  },
  {
   "cell_type": "markdown",
   "id": "7b6cd372-2bb8-4df8-ade1-8f48bc300955",
   "metadata": {},
   "source": [
    "Task 6. For each game, use an Analyzer object to determine the relative frequency of jackpots and show your results, comparing the two relative frequencies, in a simple bar chart.\n",
    "\n",
    "- Jackpot methods called (1).\n",
    "- Graph produced (1)."
   ]
  },
  {
   "cell_type": "code",
   "execution_count": 27,
   "id": "bbdcf695-8937-406e-9b53-aa0b9ee3c59a",
   "metadata": {},
   "outputs": [
    {
     "name": "stdout",
     "output_type": "stream",
     "text": [
      "Task 1 Jackpot Count: 502\n",
      "Task 2 Jackpot Count: 385\n"
     ]
    }
   ],
   "source": [
    "from Projectclasses import Analyzer\n",
    "\n",
    "analyzer_Dice_game = Analyzer(Dice_game)\n",
    "analyzer_Vegas_game = Analyzer(Vegas_game)\n",
    "\n",
    "jackpot_Dice_game = analyzer_Dice_game.jackpot()\n",
    "jackpot_Vegas_game = analyzer_Vegas_game.jackpot()\n",
    "\n",
    "print(\"Task 1 Jackpot Count:\", jackpot_game)\n",
    "print(\"Task 2 Jackpot Count:\", jackpot_new_game)"
   ]
  },
  {
   "cell_type": "code",
   "execution_count": 28,
   "id": "aa3e8b52-dea7-4022-a01b-ad9d6b064841",
   "metadata": {
    "tags": []
   },
   "outputs": [
    {
     "name": "stdout",
     "output_type": "stream",
     "text": [
      "Task 1 Relative Frequency: 0.0009\n",
      "Task 2 Relative Frequency: 0.0011\n"
     ]
    }
   ],
   "source": [
    "total_games = 10000\n",
    "\n",
    "rel_freqa = jackpot_Dice_game / total_games\n",
    "rel_freqb = jackpot_Vegas_game / total_games\n",
    "\n",
    "print(\"Task 1 Relative Frequency:\", rel_freqa)\n",
    "print(\"Task 2 Relative Frequency:\", rel_freqb)"
   ]
  },
  {
   "cell_type": "code",
   "execution_count": 29,
   "id": "7b276320-141c-45ac-96f9-7ea06743d0ca",
   "metadata": {
    "tags": []
   },
   "outputs": [
    {
     "data": {
      "image/png": "[encoded data removed]",
      "text/plain": [
       "<Figure size 640x480 with 1 Axes>"
      ]
     },
     "metadata": {},
     "output_type": "display_data"
    }
   ],
   "source": [
    "import matplotlib.pyplot as plt\n",
    "\n",
    "\n",
    "labels = ['Dice Game 1', 'Dice Game 2']\n",
    "values = [rel_freqa, rel_freqb]\n",
    "\n",
    "# Plot\n",
    "plt.bar(labels, values, color=['green', 'blue'])\n",
    "plt.ylabel('Relative Frequency of Jackpots')\n",
    "plt.title('Comparison of Jackpot Frequencies')\n",
    "plt.ylim(0, 0.01) \n",
    "\n",
    "\n",
    "plt.show()"
   ]
  },
  {
   "cell_type": "markdown",
   "id": "9f04e9be-8fcf-4ea4-a391-6614608285f8",
   "metadata": {},
   "source": [
    "## Scenario 3: Letters of the Alphabet (7)\n",
    "\n",
    "Task 1. Create a \"die\" of letters from $A$ to $Z$ with weights based on their frequency of usage as found in the data file `english_letters.txt`. Use the frequencies (i.e. raw counts) as weights.\n",
    "\n",
    "- Die correctly instantiated with source file data (1).\n",
    "- Weights properly applied using weight setting method (1)."
   ]
  },
  {
   "cell_type": "code",
   "execution_count": 30,
   "id": "b0ceb771-3cdf-4d8f-8c2c-020806bbb909",
   "metadata": {},
   "outputs": [],
   "source": [
    "import pandas as pd\n",
    "import numpy as np\n",
    "from Projectclasses import Die\n",
    "\n",
    "df = pd.read_csv('/sfs/gpfs/tardis/home/vwx5pn/ds5100_project/english_letters.txt', header=None, names=['letter', 'frequency'])\n",
    "\n",
    "\n",
    "faces = df['letter'].tolist()\n",
    "die = Die(np.array(faces))\n",
    "\n",
    "\n",
    "for index, row in df.iterrows():\n",
    "    die.change_weight(row['letter'], row['frequency'])"
   ]
  },
  {
   "cell_type": "markdown",
   "id": "88e2e14a-6223-470a-a2c8-bca1120d7a5b",
   "metadata": {},
   "source": [
    "Task 2. Play a game involving $4$ of these dice with $1000$ rolls.\n",
    "\n",
    "- Game play method properly called (1)."
   ]
  },
  {
   "cell_type": "code",
   "execution_count": 31,
   "id": "2ae087cc-936d-4f1e-bddb-a7c179d139e0",
   "metadata": {},
   "outputs": [
    {
     "ename": "ValueError",
     "evalue": "probabilities contain NaN",
     "output_type": "error",
     "traceback": [
      "\u001b[0;31m---------------------------------------------------------------------------\u001b[0m",
      "\u001b[0;31mValueError\u001b[0m                                Traceback (most recent call last)",
      "Cell \u001b[0;32mIn[31], line 2\u001b[0m\n\u001b[1;32m      1\u001b[0m letter_game \u001b[38;5;241m=\u001b[39m Game([die, die, die, die, die])\n\u001b[0;32m----> 2\u001b[0m \u001b[43mletter_game\u001b[49m\u001b[38;5;241;43m.\u001b[39;49m\u001b[43mplay\u001b[49m\u001b[43m(\u001b[49m\u001b[38;5;241;43m1000\u001b[39;49m\u001b[43m)\u001b[49m\n\u001b[1;32m      3\u001b[0m \u001b[38;5;28mprint\u001b[39m(letter_game\u001b[38;5;241m.\u001b[39mgame_results(\u001b[38;5;124m'\u001b[39m\u001b[38;5;124mwide\u001b[39m\u001b[38;5;124m'\u001b[39m))\n",
      "File \u001b[0;32m/sfs/gpfs/tardis/home/vwx5pn/ds5100_project/Projectclasses.py:84\u001b[0m, in \u001b[0;36mGame.play\u001b[0;34m(self, num_rolls)\u001b[0m\n\u001b[1;32m     81\u001b[0m results \u001b[38;5;241m=\u001b[39m {}\n\u001b[1;32m     83\u001b[0m \u001b[38;5;28;01mfor\u001b[39;00m i, die \u001b[38;5;129;01min\u001b[39;00m \u001b[38;5;28menumerate\u001b[39m(\u001b[38;5;28mself\u001b[39m\u001b[38;5;241m.\u001b[39mdice_list):\n\u001b[0;32m---> 84\u001b[0m         results[i] \u001b[38;5;241m=\u001b[39m \u001b[43mdie\u001b[49m\u001b[38;5;241;43m.\u001b[39;49m\u001b[43mroll_die\u001b[49m\u001b[43m(\u001b[49m\u001b[43mnum_rolls\u001b[49m\u001b[43m)\u001b[49m\n\u001b[1;32m     86\u001b[0m \u001b[38;5;28mself\u001b[39m\u001b[38;5;241m.\u001b[39m__results \u001b[38;5;241m=\u001b[39m pd\u001b[38;5;241m.\u001b[39mDataFrame(results) \n\u001b[1;32m     87\u001b[0m \u001b[38;5;28mself\u001b[39m\u001b[38;5;241m.\u001b[39m__results\u001b[38;5;241m.\u001b[39mindex\u001b[38;5;241m.\u001b[39mname \u001b[38;5;241m=\u001b[39m \u001b[38;5;124m'\u001b[39m\u001b[38;5;124mroll\u001b[39m\u001b[38;5;124m'\u001b[39m\n",
      "File \u001b[0;32m/sfs/gpfs/tardis/home/vwx5pn/ds5100_project/Projectclasses.py:53\u001b[0m, in \u001b[0;36mDie.roll_die\u001b[0;34m(self, num_rolls)\u001b[0m\n\u001b[1;32m     50\u001b[0m probabilities \u001b[38;5;241m=\u001b[39m weights \u001b[38;5;241m/\u001b[39m weights\u001b[38;5;241m.\u001b[39msum()\n\u001b[1;32m     52\u001b[0m \u001b[38;5;66;03m# Use numpy to randomly choose faces based on weights\u001b[39;00m\n\u001b[0;32m---> 53\u001b[0m rolls \u001b[38;5;241m=\u001b[39m \u001b[43mnp\u001b[49m\u001b[38;5;241;43m.\u001b[39;49m\u001b[43mrandom\u001b[49m\u001b[38;5;241;43m.\u001b[39;49m\u001b[43mchoice\u001b[49m\u001b[43m(\u001b[49m\u001b[43mfaces\u001b[49m\u001b[43m,\u001b[49m\u001b[43m \u001b[49m\u001b[43msize\u001b[49m\u001b[38;5;241;43m=\u001b[39;49m\u001b[43mnum_rolls\u001b[49m\u001b[43m,\u001b[49m\u001b[43m \u001b[49m\u001b[43mp\u001b[49m\u001b[38;5;241;43m=\u001b[39;49m\u001b[43mprobabilities\u001b[49m\u001b[43m)\u001b[49m\n\u001b[1;32m     55\u001b[0m \u001b[38;5;28;01mreturn\u001b[39;00m rolls\u001b[38;5;241m.\u001b[39mtolist()\n",
      "File \u001b[0;32mmtrand.pyx:954\u001b[0m, in \u001b[0;36mnumpy.random.mtrand.RandomState.choice\u001b[0;34m()\u001b[0m\n",
      "\u001b[0;31mValueError\u001b[0m: probabilities contain NaN"
     ]
    }
   ],
   "source": [
    "letter_game = Game([die, die, die, die, die])\n",
    "letter_game.play(1000)\n",
    "print(letter_game.game_results('wide'))"
   ]
  },
  {
   "cell_type": "markdown",
   "id": "3b9ff800-bf1f-4f66-9d7f-ff57a648e9f0",
   "metadata": {},
   "source": [
    "Task 3. Determine how many permutations in your results are actual English words, based on the vocabulary found in `scrabble_words.txt`.\n",
    "\n",
    "- Use permutation method (1).\n",
    "- Get count as difference between permutations and vocabulary (1)."
   ]
  },
  {
   "cell_type": "code",
   "execution_count": 32,
   "id": "ed1c7fa0-cfa3-4cf4-9fd0-9f84b86b0f64",
   "metadata": {},
   "outputs": [
    {
     "name": "stdout",
     "output_type": "stream",
     "text": [
      "Warning: Some frequencies are zero. This might affect the randomness of the roll.\n",
      "Warning: NaN values found in probabilities.\n"
     ]
    },
    {
     "name": "stderr",
     "output_type": "stream",
     "text": [
      "/tmp/ipykernel_582058/4256674890.py:10: RuntimeWarning: invalid value encountered in divide\n",
      "  probabilities = weights / weights.sum()\n"
     ]
    }
   ],
   "source": [
    "# Check if any weights are zero or NaN before normalizing\n",
    "weights = df['frequency'].values\n",
    "weights = np.nan_to_num(weights)  # Convert NaNs to 0s if there are any NaN values\n",
    "\n",
    "# Ensure no zero values in the weights\n",
    "if np.any(weights == 0):\n",
    "    print(\"Warning: Some frequencies are zero. This might affect the randomness of the roll.\")\n",
    "\n",
    "# Normalize the weights\n",
    "probabilities = weights / weights.sum()\n",
    "\n",
    "# Check if any NaN values remain after normalization\n",
    "if np.any(np.isnan(probabilities)):\n",
    "    print(\"Warning: NaN values found in probabilities.\")"
   ]
  },
  {
   "cell_type": "code",
   "execution_count": 33,
   "id": "18fafa75-015d-4010-949b-b9902ad5a629",
   "metadata": {
    "tags": []
   },
   "outputs": [
    {
     "name": "stdout",
     "output_type": "stream",
     "text": [
      "Total permutations: 120\n",
      "Valid English words: 0\n",
      "Invalid words (not in vocabulary): 120\n"
     ]
    }
   ],
   "source": [
    "\n",
    "import itertools\n",
    "\n",
    "# Step 1: Read scrabble words\n",
    "with open('/sfs/gpfs/tardis/home/vwx5pn/ds5100_project/scrabble_words.txt') as file:\n",
    "    valid_words = set(word.strip().lower() for word in file.readlines())\n",
    "\n",
    "# Step 2: Generate permutations from the letters rolled\n",
    "rolled_letters = ['a', 'b', 'c', 'd', 'e']  # Example letters, replace with actual dice results\n",
    "permutations = set(itertools.permutations(rolled_letters))  # Generate unique permutations\n",
    "\n",
    "# Step 3: Check if permutations are valid words\n",
    "valid_word_count = 0\n",
    "for perm in permutations:\n",
    "    word = ''.join(perm)\n",
    "    if word in valid_words:\n",
    "        valid_word_count += 1\n",
    "\n",
    "# Step 4: Calculate the difference (total permutations - valid words)\n",
    "total_permutations = len(permutations)\n",
    "invalid_word_count = total_permutations - valid_word_count\n",
    "\n",
    "print(f\"Total permutations: {total_permutations}\")\n",
    "print(f\"Valid English words: {valid_word_count}\")\n",
    "print(f\"Invalid words (not in vocabulary): {invalid_word_count}\")\n"
   ]
  },
  {
   "cell_type": "markdown",
   "id": "fcf068cf-381a-4b3e-ac3a-0510eb4dbdb0",
   "metadata": {},
   "source": [
    "Task 4. Repeat steps #2 and #3, this time with $5$ dice. How many actual words does this produce? Which produces more?\n",
    "\n",
    "- Successfully repreats steps (1).\n",
    "- Identifies parameter with most found words (1)."
   ]
  }
 ],
 "metadata": {
  "kernelspec": {
   "display_name": "Python 3 (ipykernel)",
   "language": "python",
   "name": "python3"
  },
  "language_info": {
   "codemirror_mode": {
    "name": "ipython",
    "version": 3
   },
   "file_extension": ".py",
   "mimetype": "text/x-python",
   "name": "python",
   "nbconvert_exporter": "python",
   "pygments_lexer": "ipython3",
   "version": "3.11.4"
  },
  "toc-autonumbering": true,
  "widgets": {
   "application/vnd.jupyter.widget-state+json": {
    "state": {},
    "version_major": 2,
    "version_minor": 0
   }
  }
 },
 "nbformat": 4,
 "nbformat_minor": 5
}
