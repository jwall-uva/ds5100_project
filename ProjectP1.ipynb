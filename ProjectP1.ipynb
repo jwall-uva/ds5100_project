{
 "cells": [
  {
   "cell_type": "code",
   "execution_count": 3,
   "id": "afe27904-e3fc-47f4-a2df-564e6bf2feb2",
   "metadata": {
    "tags": []
   },
   "outputs": [],
   "source": [
    "import numpy as np \n",
    "import pandas as pd \n",
    "\n",
    "class Die(): \n",
    "    \n",
    "    '''This class takes a die of N number of sides. Each side is initially evenly weighted but \n",
    "        you can change the weight of the sides. This class also has functions that will roll the die \n",
    "        and show the results as well.'''\n",
    "    \n",
    "    def __init__(self, face): \n",
    "        \"Intializes a numpy as the faces of the die.\"\n",
    "    #takes numpy as an argument and has an error if not \n",
    "        if not isinstance(face, np.ndarray):\n",
    "            raise TypeError(\"Input must be a NumPy array.\")\n",
    "            \n",
    "    #raises a ValueError if the faces are not distinct     \n",
    "        if len(np.unique(face)) != len(face): \n",
    "            raise ValueError(\"All face values must be distinct.\")\n",
    "    \n",
    "        weights = np.ones(len(face), dtype = float)\n",
    "        \n",
    "        # Save to a private DataFrame with faces as index\n",
    "        self.__data = pd.DataFrame({'weight': weights}, index=face)\n",
    "        \n",
    "    def change_weight(self, face, new_weight):\n",
    "        \"A method to change the weight of a single side.\"\n",
    "     # Check if face exists in the index\n",
    "        if face not in self.__data.index:\n",
    "            raise IndexError(f\"Face '{face}' not found in die faces.\")   \n",
    "            \n",
    "        try: \n",
    "            numeric_weight = float(new_weight) \n",
    "        except (TypeError, ValueError):\n",
    "            raise TypeError(\"New weight must be a number or castable to a number.\")\n",
    "        \n",
    "        # Assign the new weight\n",
    "        self.__data.loc[face, 'weight'] = numeric_weight\n",
    "        \n",
    "    def roll_die(self, num_rolls=1):\n",
    "        \"A method to roll the die one or more times.\"\n",
    "        # Validate num_rolls is a positive integer\n",
    "        if not isinstance(num_rolls, int) or num_rolls < 1:\n",
    "            raise ValueError(\"Number of rolls must be a positive integer.\")\n",
    "        \n",
    "        # get the faces and weights \n",
    "        faces = self.__data.index.to_numpy()\n",
    "        weights = self.__data['weight'].to_numpy()\n",
    "        \n",
    "        # Normalize weights to convert them into probabilities\n",
    "        probabilities = weights / weights.sum()\n",
    "\n",
    "        # Use numpy to randomly choose faces based on weights\n",
    "        rolls = np.random.choice(faces, size=num_rolls, p=probabilities)\n",
    "        \n",
    "        return rolls.tolist()\n",
    "\n",
    "    def show_die(self):\n",
    "        \"A method to show the die’s current state.\"\n",
    "      #Returns a copy of the private die data frame.\n",
    "      return self.__data.copy()\n",
    "        \n",
    "        "
   ]
  },
  {
   "cell_type": "code",
   "execution_count": 32,
   "id": "7cc14738-d62f-48d6-9b71-733048bbb11b",
   "metadata": {},
   "outputs": [],
   "source": [
    "faces = np.array([1, 2, 3, 4, 5, 6])\n",
    "my_die = Die(faces)\n"
   ]
  },
  {
   "cell_type": "code",
   "execution_count": 33,
   "id": "9a93f344-9959-46a7-8026-09ab8f80201c",
   "metadata": {
    "tags": []
   },
   "outputs": [
    {
     "name": "stdout",
     "output_type": "stream",
     "text": [
      "Initial die state:\n",
      "   weight\n",
      "1     1.0\n",
      "2     1.0\n",
      "3     1.0\n",
      "4     1.0\n",
      "5     1.0\n",
      "6     1.0\n"
     ]
    }
   ],
   "source": [
    "print(\"Initial die state:\")\n",
    "print(my_die.show_die())"
   ]
  },
  {
   "cell_type": "code",
   "execution_count": 34,
   "id": "da130785-a368-4db7-9c63-cc96be524644",
   "metadata": {
    "tags": []
   },
   "outputs": [
    {
     "name": "stdout",
     "output_type": "stream",
     "text": [
      "\n",
      "After changing weight of face 6:\n",
      "   weight\n",
      "1     1.0\n",
      "2     1.0\n",
      "3     1.0\n",
      "4     1.0\n",
      "5     1.0\n",
      "6    10.0\n"
     ]
    }
   ],
   "source": [
    "my_die.change_weight(6, 10)\n",
    "print(\"\\nAfter changing weight of face 6:\")\n",
    "print(my_die.show_die())"
   ]
  },
  {
   "cell_type": "code",
   "execution_count": 35,
   "id": "35e3124c-4eba-460b-8dbb-d8afcf8af13a",
   "metadata": {
    "tags": []
   },
   "outputs": [
    {
     "name": "stdout",
     "output_type": "stream",
     "text": [
      "\n",
      "Rolling die 5 times:\n",
      "[6, 6, 6, 2, 6]\n"
     ]
    }
   ],
   "source": [
    "print(\"\\nRolling die 5 times:\")\n",
    "print(my_die.roll_die(5))"
   ]
  },
  {
   "cell_type": "code",
   "execution_count": 38,
   "id": "611211d5-f27a-4089-9508-f681846ecaa1",
   "metadata": {
    "tags": []
   },
   "outputs": [],
   "source": [
    "import numpy as np \n",
    "import pandas as pd \n",
    "\n",
    "class Game():\n",
    "    \n",
    "    \"\"\"The class takes multiple die in a list. From there, you can roll the die all together to play.\n",
    "    You can also print out the game results in a data frame.\"\"\"\n",
    "    \n",
    "    def __init__(self, dice_list):\n",
    "        \n",
    "        self.dice_list = dice_list\n",
    "        self.__results = None \n",
    "        \n",
    "    def play(self, num_rolls):\n",
    "        \n",
    "        if not isinstance(num_rolls, int) or num_rolls<1:\n",
    "            raise ValueError(\"Number of rolls must be a positive integer.\")\n",
    "            \n",
    "        results = {}\n",
    "            \n",
    "        for i, die in enumerate(self.dice_list):\n",
    "                results[i] = die.roll_die(num_rolls)\n",
    "                \n",
    "        self.__results = pd.DataFrame(results) \n",
    "        self.__results.index.name = 'roll'\n",
    "        self.__results.index += 1\n",
    "        \n",
    "    def game_results(self, form='wide'): \n",
    "        \"A method to show the user the results of the most recent play.\"\n",
    "        if self.__results is None:\n",
    "            return None \n",
    "        \n",
    "        if form == 'wide':\n",
    "            return self.__results.copy()\n",
    "        elif form == 'narrow':\n",
    "            stacked = self.__results.stack()\n",
    "            df = stacked.to_frame(name = 'result') \n",
    "            df = df.rename_axis(['roll', 'die'])\n",
    "            df = df.reset_index()\n",
    "            df = df.set_index(['roll', 'die'])\n",
    "            return df \n",
    "                              \n",
    "        else:\n",
    "            raise ValueError(\"Invalid. Choose narrow or wide.\")\n",
    "        "
   ]
  },
  {
   "cell_type": "code",
   "execution_count": 23,
   "id": "b19e5389-3893-4fff-89ef-2bc353046cf2",
   "metadata": {},
   "outputs": [],
   "source": [
    "die_face = np.array(['a','b','c','d'])\n",
    "die1 = Die(die_face)\n",
    "die2 = Die(die_face)\n",
    "die3 = Die(die_face) "
   ]
  },
  {
   "cell_type": "code",
   "execution_count": 24,
   "id": "cc303af1-ec61-4607-8735-3711507c4682",
   "metadata": {},
   "outputs": [],
   "source": [
    "game = Game([die1, die2, die3])"
   ]
  },
  {
   "cell_type": "code",
   "execution_count": 25,
   "id": "fe8b9e23-fa6d-48aa-8b23-47067cd67ea1",
   "metadata": {
    "tags": []
   },
   "outputs": [],
   "source": [
    "game.play(5)"
   ]
  },
  {
   "cell_type": "code",
   "execution_count": 44,
   "id": "97532418-4e44-4b67-b670-2104401e1b4b",
   "metadata": {},
   "outputs": [
    {
     "data": {
      "text/html": [
       "<div>\n",
       "<style scoped>\n",
       "    .dataframe tbody tr th:only-of-type {\n",
       "        vertical-align: middle;\n",
       "    }\n",
       "\n",
       "    .dataframe tbody tr th {\n",
       "        vertical-align: top;\n",
       "    }\n",
       "\n",
       "    .dataframe thead th {\n",
       "        text-align: right;\n",
       "    }\n",
       "</style>\n",
       "<table border=\"1\" class=\"dataframe\">\n",
       "  <thead>\n",
       "    <tr style=\"text-align: right;\">\n",
       "      <th></th>\n",
       "      <th></th>\n",
       "      <th>result</th>\n",
       "    </tr>\n",
       "    <tr>\n",
       "      <th>roll</th>\n",
       "      <th>die</th>\n",
       "      <th></th>\n",
       "    </tr>\n",
       "  </thead>\n",
       "  <tbody>\n",
       "    <tr>\n",
       "      <th rowspan=\"3\" valign=\"top\">1</th>\n",
       "      <th>0</th>\n",
       "      <td>d</td>\n",
       "    </tr>\n",
       "    <tr>\n",
       "      <th>1</th>\n",
       "      <td>d</td>\n",
       "    </tr>\n",
       "    <tr>\n",
       "      <th>2</th>\n",
       "      <td>c</td>\n",
       "    </tr>\n",
       "    <tr>\n",
       "      <th rowspan=\"3\" valign=\"top\">2</th>\n",
       "      <th>0</th>\n",
       "      <td>a</td>\n",
       "    </tr>\n",
       "    <tr>\n",
       "      <th>1</th>\n",
       "      <td>a</td>\n",
       "    </tr>\n",
       "    <tr>\n",
       "      <th>2</th>\n",
       "      <td>d</td>\n",
       "    </tr>\n",
       "    <tr>\n",
       "      <th rowspan=\"3\" valign=\"top\">3</th>\n",
       "      <th>0</th>\n",
       "      <td>c</td>\n",
       "    </tr>\n",
       "    <tr>\n",
       "      <th>1</th>\n",
       "      <td>a</td>\n",
       "    </tr>\n",
       "    <tr>\n",
       "      <th>2</th>\n",
       "      <td>c</td>\n",
       "    </tr>\n",
       "    <tr>\n",
       "      <th rowspan=\"3\" valign=\"top\">4</th>\n",
       "      <th>0</th>\n",
       "      <td>b</td>\n",
       "    </tr>\n",
       "    <tr>\n",
       "      <th>1</th>\n",
       "      <td>a</td>\n",
       "    </tr>\n",
       "    <tr>\n",
       "      <th>2</th>\n",
       "      <td>d</td>\n",
       "    </tr>\n",
       "    <tr>\n",
       "      <th rowspan=\"3\" valign=\"top\">5</th>\n",
       "      <th>0</th>\n",
       "      <td>d</td>\n",
       "    </tr>\n",
       "    <tr>\n",
       "      <th>1</th>\n",
       "      <td>c</td>\n",
       "    </tr>\n",
       "    <tr>\n",
       "      <th>2</th>\n",
       "      <td>b</td>\n",
       "    </tr>\n",
       "  </tbody>\n",
       "</table>\n",
       "</div>"
      ],
      "text/plain": [
       "         result\n",
       "roll die       \n",
       "1    0        d\n",
       "     1        d\n",
       "     2        c\n",
       "2    0        a\n",
       "     1        a\n",
       "     2        d\n",
       "3    0        c\n",
       "     1        a\n",
       "     2        c\n",
       "4    0        b\n",
       "     1        a\n",
       "     2        d\n",
       "5    0        d\n",
       "     1        c\n",
       "     2        b"
      ]
     },
     "execution_count": 44,
     "metadata": {},
     "output_type": "execute_result"
    }
   ],
   "source": [
    "game.game_results('narrow')"
   ]
  },
  {
   "cell_type": "code",
   "execution_count": 37,
   "id": "ddf82746-a890-405a-8e29-74eaf2487d64",
   "metadata": {
    "tags": []
   },
   "outputs": [
    {
     "data": {
      "text/html": [
       "<div>\n",
       "<style scoped>\n",
       "    .dataframe tbody tr th:only-of-type {\n",
       "        vertical-align: middle;\n",
       "    }\n",
       "\n",
       "    .dataframe tbody tr th {\n",
       "        vertical-align: top;\n",
       "    }\n",
       "\n",
       "    .dataframe thead th {\n",
       "        text-align: right;\n",
       "    }\n",
       "</style>\n",
       "<table border=\"1\" class=\"dataframe\">\n",
       "  <thead>\n",
       "    <tr style=\"text-align: right;\">\n",
       "      <th></th>\n",
       "      <th>0</th>\n",
       "      <th>1</th>\n",
       "      <th>2</th>\n",
       "    </tr>\n",
       "    <tr>\n",
       "      <th>roll</th>\n",
       "      <th></th>\n",
       "      <th></th>\n",
       "      <th></th>\n",
       "    </tr>\n",
       "  </thead>\n",
       "  <tbody>\n",
       "    <tr>\n",
       "      <th>1</th>\n",
       "      <td>d</td>\n",
       "      <td>d</td>\n",
       "      <td>c</td>\n",
       "    </tr>\n",
       "    <tr>\n",
       "      <th>2</th>\n",
       "      <td>a</td>\n",
       "      <td>a</td>\n",
       "      <td>d</td>\n",
       "    </tr>\n",
       "    <tr>\n",
       "      <th>3</th>\n",
       "      <td>c</td>\n",
       "      <td>a</td>\n",
       "      <td>c</td>\n",
       "    </tr>\n",
       "    <tr>\n",
       "      <th>4</th>\n",
       "      <td>b</td>\n",
       "      <td>a</td>\n",
       "      <td>d</td>\n",
       "    </tr>\n",
       "    <tr>\n",
       "      <th>5</th>\n",
       "      <td>d</td>\n",
       "      <td>c</td>\n",
       "      <td>b</td>\n",
       "    </tr>\n",
       "  </tbody>\n",
       "</table>\n",
       "</div>"
      ],
      "text/plain": [
       "      0  1  2\n",
       "roll         \n",
       "1     d  d  c\n",
       "2     a  a  d\n",
       "3     c  a  c\n",
       "4     b  a  d\n",
       "5     d  c  b"
      ]
     },
     "execution_count": 37,
     "metadata": {},
     "output_type": "execute_result"
    }
   ],
   "source": [
    "game.game_results('wide')"
   ]
  },
  {
   "cell_type": "code",
   "execution_count": 46,
   "id": "e214bb39-cc01-45ef-b3c6-d6a3dac4d6c8",
   "metadata": {
    "tags": []
   },
   "outputs": [],
   "source": [
    "import pandas as pd\n",
    "from collections import Counter\n",
    "\n",
    "class Analyzer():\n",
    "    '''An Analyzer object takes the results of a single game and computes various descriptive \n",
    "    statistical properties about it.'''\n",
    "\n",
    "\n",
    "    def __init__(self, game):\n",
    "        \"Takes a game object as its input parameter and gives an error if not a game object\"\n",
    "        if not isinstance(game, Game):\n",
    "            raise ValueError(\"Error. Expected a Game object.\")\n",
    "        \n",
    "        self.game = game \n",
    "        self.results = game.game_results()\n",
    "        \n",
    "            \n",
    "    def jackpot(self):\n",
    "        \"Checks to see how many times all the faces have the same value.\"\n",
    "        \n",
    "        jackpots = self.results.nunique(axis=1) == 1 \n",
    "        return jackpots.sum()\n",
    "    \n",
    "    def roll_count(self):\n",
    "        \"Counts how many times a given face is rolled in each event.\"\n",
    "        \n",
    "        face_counts = self.results.apply(lambda row: row_value_counts, aixs=1).fillna(0).astype(int)\n",
    "        face_counts.index_name = 'row' \n",
    "        face_counts.columns.name = 'face' \n",
    "        return face_counts\n",
    "        \n",
    "    def combo_count(self):\n",
    "        \n",
    "        combos = self.results.apply(lambda row: tuple(sorted(row)), axis=1)\n",
    "        combo_counts = combos.value_counts().to_frame(name='count')\n",
    "        combo_counts.index.name = 'combination'\n",
    "        return combo_counts\n",
    "    \n",
    "    def permutation_count(self):\n",
    "        \n",
    "        permutations = self.results.apply(lambda row: tuple(row), axis=1)\n",
    "        perm_counts = permutations.value_counts().to_frame(name='count')\n",
    "        perm_counts.index.name = 'permutation'\n",
    "        return perm_counts"
   ]
  },
  {
   "cell_type": "code",
   "execution_count": null,
   "id": "a00bcd75-f6c7-4878-82a4-4b73b855e4ee",
   "metadata": {},
   "outputs": [],
   "source": []
  }
 ],
 "metadata": {
  "kernelspec": {
   "display_name": "Python 3 (ipykernel)",
   "language": "python",
   "name": "python3"
  },
  "language_info": {
   "codemirror_mode": {
    "name": "ipython",
    "version": 3
   },
   "file_extension": ".py",
   "mimetype": "text/x-python",
   "name": "python",
   "nbconvert_exporter": "python",
   "pygments_lexer": "ipython3",
   "version": "3.11.4"
  }
 },
 "nbformat": 4,
 "nbformat_minor": 5
}
